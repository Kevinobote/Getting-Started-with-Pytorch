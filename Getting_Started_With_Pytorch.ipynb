{
 "cells": [
  {
   "cell_type": "markdown",
   "metadata": {},
   "source": [
    "## Getting Started with Pytorch"
   ]
  },
  {
   "cell_type": "markdown",
   "metadata": {},
   "source": [
    "**Step 1: Import PyTorch Library**"
   ]
  },
  {
   "cell_type": "code",
   "execution_count": null,
   "metadata": {},
   "outputs": [],
   "source": [
    "# Imoprt PyTorch Library\n",
    "# Pip install PyTorch if you do not already have it\n",
    "#!pip3 install torch torchvision torchaudio --index-url https://download.pytorch.org/whl/cu118"
   ]
  },
  {
   "cell_type": "code",
   "execution_count": null,
   "metadata": {},
   "outputs": [],
   "source": [
    "import torch"
   ]
  },
  {
   "cell_type": "markdown",
   "metadata": {},
   "source": [
    "**Step 2: Check PyTorch version**"
   ]
  },
  {
   "cell_type": "code",
   "execution_count": null,
   "metadata": {},
   "outputs": [],
   "source": [
    "# Step 2: Check PyTorch version\n",
    "print(\"PyTorch version:\", torch.__version__)"
   ]
  },
  {
   "cell_type": "markdown",
   "metadata": {},
   "source": [
    "**Step 3: Create a tensor**"
   ]
  },
  {
   "cell_type": "code",
   "execution_count": null,
   "metadata": {},
   "outputs": [],
   "source": [
    "# Tensors are similar to NumPy arrays and are the basic building blocks in PyTorch\n",
    "# Here, we create a 3x3 tensor initialized with zeros\n",
    "tensor = torch.zeros(3, 3)\n",
    "print(\"\\nTensor:\")\n",
    "print(tensor)"
   ]
  },
  {
   "cell_type": "markdown",
   "metadata": {},
   "source": [
    "**Step 4: Perform basic tensor operations**"
   ]
  },
  {
   "cell_type": "code",
   "execution_count": null,
   "metadata": {},
   "outputs": [],
   "source": [
    "# PyTorch supports a wide range of tensor operations, similar to NumPy\n",
    "# Let's perform some basic operations on the tensor\n",
    "tensor[1, 1] = 1  # Set element at index (1, 1) to 1\n",
    "print(\"\\nModified Tensor:\")\n",
    "print(tensor)"
   ]
  },
  {
   "cell_type": "markdown",
   "metadata": {},
   "source": [
    "**step 5: Create a computation graph**"
   ]
  },
  {
   "cell_type": "code",
   "execution_count": null,
   "metadata": {},
   "outputs": [],
   "source": [
    "# PyTorch uses dynamic computation graphs, allowing for easy backpropagation in neural networks\n",
    "# Here, we create a simple computation graph with two input tensors and perform an operation\n",
    "input1 = torch.tensor([2., 3.], requires_grad=True)\n",
    "input2 = torch.tensor([6., 4.], requires_grad=True)\n",
    "output = input1 + input2  # Element-wise addition\n",
    "print(\"\\nOutput Tensor:\")\n",
    "print(output)"
   ]
  },
  {
   "cell_type": "markdown",
   "metadata": {},
   "source": [
    "**Step 6: Perform backpropagation**"
   ]
  },
  {
   "cell_type": "code",
   "execution_count": null,
   "metadata": {},
   "outputs": [],
   "source": [
    "# PyTorch automatically tracks operations on tensors with the requires_grad=True flag\n",
    "# We can perform backpropagation and compute gradients using the .backward() method\n",
    "output_mean = output.mean()\n",
    "output_mean.backward()  # Compute gradients of the output tensor with respect to input tensors\n",
    "print(\"\\nGradient of input1:\")\n",
    "print(input1.grad)  # Gradient of output_mean w.r.t. input1\n",
    "print(\"\\nGradient of input2:\")\n",
    "print(input2.grad)  # Gradient of output_mean w.r.t. input2"
   ]
  },
  {
   "cell_type": "markdown",
   "metadata": {},
   "source": [
    "**Step 7: Build a simple neural network**"
   ]
  },
  {
   "cell_type": "code",
   "execution_count": null,
   "metadata": {},
   "outputs": [],
   "source": [
    "# PyTorch provides modules to build neural networks easily\n",
    "import torch.nn as nn\n",
    "\n",
    "# Define a simple neural network with one input layer, one hidden layer, and one output layer\n",
    "class SimpleNN(nn.Module):\n",
    "    def __init__(self, input_size, hidden_size, output_size):\n",
    "        super(SimpleNN, self).__init__()\n",
    "        self.fc1 = nn.Linear(input_size, hidden_size)\n",
    "        self.relu = nn.ReLU()\n",
    "        self.fc2 = nn.Linear(hidden_size, output_size)\n",
    "    \n",
    "    def forward(self, x):\n",
    "        x = self.fc1(x)\n",
    "        x = self.relu(x)\n",
    "        x = self.fc2(x)\n",
    "        return x\n",
    "\n",
    "# Create an instance of the neural network\n",
    "input_size = 10\n",
    "hidden_size = 20\n",
    "output_size = 5\n",
    "model = SimpleNN(input_size, hidden_size, output_size)\n",
    "print(\"\\nSimple Neural Network:\")\n",
    "print(model)"
   ]
  },
  {
   "cell_type": "markdown",
   "metadata": {},
   "source": [
    "**Step 8: Train the neural network**"
   ]
  },
  {
   "cell_type": "code",
   "execution_count": null,
   "metadata": {},
   "outputs": [],
   "source": [
    "# To train the neural network, you typically need data and a loss function\n",
    "# We'll skip actual training here and just demonstrate a forward pass\n",
    "# Assuming we have input data 'input_data'\n",
    "input_data = torch.randn(32, input_size)  # Generate random input data\n",
    "output_data = model(input_data)  # Forward pass\n",
    "print(\"\\nOutput of the neural network (before training):\")\n",
    "print(output_data)"
   ]
  }
 ],
 "metadata": {
  "language_info": {
   "name": "python"
  }
 },
 "nbformat": 4,
 "nbformat_minor": 2
}
